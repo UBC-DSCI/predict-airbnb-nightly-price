{
 "cells": [
  {
   "cell_type": "markdown",
   "id": "ac119edb-a499-4381-96b4-77446df17c8a",
   "metadata": {},
   "source": [
    "# Predict AirBnB nightly prices"
   ]
  },
  {
   "cell_type": "code",
   "execution_count": null,
   "id": "9ec5c9a2-6f62-44c0-9b22-1bddb3139106",
   "metadata": {},
   "outputs": [],
   "source": []
  }
 ],
 "metadata": {
  "kernelspec": {
   "display_name": "R",
   "language": "R",
   "name": "ir"
  },
  "language_info": {
   "codemirror_mode": "r",
   "file_extension": ".r",
   "mimetype": "text/x-r-source",
   "name": "R",
   "pygments_lexer": "r",
   "version": "4.1.2"
  }
 },
 "nbformat": 4,
 "nbformat_minor": 5
}
